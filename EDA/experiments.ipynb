{
 "cells": [
  {
   "cell_type": "code",
   "execution_count": 12,
   "metadata": {},
   "outputs": [
    {
     "name": "stdout",
     "output_type": "stream",
     "text": [
      "No Properties\n"
     ]
    }
   ],
   "source": [
    "import requests\n",
    "from bs4 import BeautifulSoup\n",
    "url = 'https://housing.com/in/buy/new_delhi/new_delhi?page=2422'\n",
    "r = requests.get(url)\n",
    "soup = BeautifulSoup(r.text,'lxml')\n",
    "header = soup.find('div',class_=\"info-heading\").text\n",
    "print(header)"
   ]
  },
  {
   "cell_type": "code",
   "execution_count": 5,
   "metadata": {},
   "outputs": [
    {
     "name": "stdout",
     "output_type": "stream",
     "text": [
      "Stone\n"
     ]
    }
   ],
   "source": [
    "import random\n",
    "choice=[\"\"\"1.Stone\n",
    "2.paper\n",
    "3.Scissors\"\"\"]\n",
    "user_input = input(\"Enter your choice: \")\n",
    "computer = random.randint(1,3)\n",
    "\n",
    "if user_input == '1' or computer ==\"1\":\n",
    "    print(\"Stone\")\n",
    "elif user_input == '2' or computer == \"2\":\n",
    "    print('paper')\n",
    "else:\n",
    "    print(\"scissors\")"
   ]
  },
  {
   "cell_type": "code",
   "execution_count": null,
   "metadata": {},
   "outputs": [],
   "source": []
  }
 ],
 "metadata": {
  "kernelspec": {
   "display_name": "venv",
   "language": "python",
   "name": "python3"
  },
  "language_info": {
   "codemirror_mode": {
    "name": "ipython",
    "version": 3
   },
   "file_extension": ".py",
   "mimetype": "text/x-python",
   "name": "python",
   "nbconvert_exporter": "python",
   "pygments_lexer": "ipython3",
   "version": "3.12.7"
  }
 },
 "nbformat": 4,
 "nbformat_minor": 2
}
